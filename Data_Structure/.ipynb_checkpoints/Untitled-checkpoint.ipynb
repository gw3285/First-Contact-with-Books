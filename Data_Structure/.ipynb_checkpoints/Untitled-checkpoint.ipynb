{
 "cells": [
  {
   "cell_type": "code",
   "execution_count": 1,
   "metadata": {},
   "outputs": [],
   "source": [
    "# 텐서플로는 텐서라는 기본 자료구조로 모든 데이터를 표현합니다.\n",
    "# t0은 랭크가 0인 텐서로 스칼라 값이며, t1은 랭크가 1인 텐서로 벡터로 볼 수 있습니다. t2는 랭크가 2인 텐서로 행렬을 나타낸다고 볼 수 있습니다.\n",
    "t0 = 1\n",
    "t1 = [1,2,3]\n",
    "t2 = [[1,2,3], [4,5,6], [7,8,9]]"
   ]
  },
  {
   "cell_type": "code",
   "execution_count": 2,
   "metadata": {},
   "outputs": [
    {
     "name": "stdout",
     "output_type": "stream",
     "text": [
      "Tensor(\"ExpandDims:0\", shape=(1, 5, 10), dtype=int32)\n"
     ]
    }
   ],
   "source": [
    "# 2차원 배열을 3차원으로 확장하는 예입니다.\n",
    "import tensorflow as tf\n",
    "\n",
    "matrix = [[0]*10 for i in range(5)]\n",
    "\n",
    "val = 1\n",
    "for i in range(0, 5):\n",
    "    for j in range(0, 10):\n",
    "        matrix[i][j] = val\n",
    "        val+=1\n",
    "        \n",
    "tf_matrix = tf.constant(matrix)\n",
    "expanded_matrix = tf.expand_dims(tf_matrix, 0)\n",
    "\n",
    "print(expanded_matrix)"
   ]
  },
  {
   "cell_type": "code",
   "execution_count": null,
   "metadata": {},
   "outputs": [],
   "source": [
    "# 프로그램 실행 중에 데이터를 변경하기 위해서 ‘심벌릭’ 변수, 즉 플레이스 홀더(placeholder)\n",
    "a = tf.placeholder(\"float\")\n",
    "b = tf.placeholder(\"float\")\n",
    "\n",
    "y = tf.multiply(a, b)\n",
    "\n",
    "sess = tf.Session()\n",
    "\n",
    "print(sess.run(y, feed_dict={a:3, b:3}))"
   ]
  }
 ],
 "metadata": {
  "kernelspec": {
   "display_name": "Python 3",
   "language": "python",
   "name": "python3"
  },
  "language_info": {
   "codemirror_mode": {
    "name": "ipython",
    "version": 3
   },
   "file_extension": ".py",
   "mimetype": "text/x-python",
   "name": "python",
   "nbconvert_exporter": "python",
   "pygments_lexer": "ipython3",
   "version": "3.7.3"
  }
 },
 "nbformat": 4,
 "nbformat_minor": 2
}
