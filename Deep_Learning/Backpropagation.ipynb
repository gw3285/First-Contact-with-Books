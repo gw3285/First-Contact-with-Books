{
 "cells": [
  {
   "cell_type": "code",
   "execution_count": 114,
   "metadata": {},
   "outputs": [],
   "source": [
    "import tensorflow as tf\n",
    "import numpy as np\n",
    "from math import exp\n",
    "\n",
    "# 목적: 인공신경망 가중치를 조정하는 방법 \n",
    "# backpropagation _ XOR\n",
    "# X: 학습 데이터 변수\n",
    "# D: 합습 데이터의 정답 변수\n",
    "\n",
    "# W1: 입력층 - 은닉층 가중치 행렬 변수\n",
    "# W2: 은닉층 - 출력층 가중치 행렬 변수\n",
    "\n",
    "# 입력층 2개 노드\n",
    "# 은닉층 2개 노드\n",
    "# 출려층 1개 노드\n",
    "# 활성함수 시그모이드\n",
    "# Backpropagation algorithm: SGD\n",
    "il_num = 2\n",
    "hl_num = 2\n",
    "ol_num = 1\n",
    "lr = 0.9\n",
    "N = 4\n",
    "    \n",
    "def sigmoid(x):\n",
    "    y = 1/(1+exp(x))\n",
    "    return y\n",
    "\n",
    "# 가중치와 학습 데이터를 넘겨받아 새로 갱신된 가중치를 반환합니다.\n",
    "# W1: 입력층-은닉층 가중치 행렬을 보관하는 변수\n",
    "# W2: 은닉층-출력층 가중치 행렬을 보관하는 변수\n",
    "# X: 학습 데이터의 입력 데이터\n",
    "# D: 학습 데이터의 정답 데이터\n",
    "def backkpropagationXOR(W1, W2, X, D):        \n",
    "    for k in range(N):\n",
    "        x = X[k]\n",
    "        d = D[k]\n",
    "        hl_v = np.array([0.0, 0.0])\n",
    "        hl_o = np.array([0.0, 0.0])\n",
    "        ol_v = 0.0\n",
    "        y = 0.0\n",
    "        d_h = np.array([0.0, 0.0])\n",
    "        \n",
    "        # 입력층 - 은닉층\n",
    "        for i in range(len(W1)):\n",
    "            for j in range(len(x)):\n",
    "                hl_v[i] = hl_v[i] + W1[i][j]*x[j]\n",
    "            hl_o[i] = sigmoid(hl_v[i])\n",
    "        \n",
    "        # 은닉층 - 출력층\n",
    "        for i in range(len(hl_o)):\n",
    "            ol_v = ol_v + W2[i]*hl_o[i]\n",
    "        y = sigmoid(ol_v)\n",
    "        \n",
    "        # 오차 부분\n",
    "        e_o = d - y\n",
    "        d_o = y*(1-y)*e_o\n",
    "        \n",
    "        e_h = np.transpose(W2)*d_o\n",
    "        \n",
    "        for i in range(len(W1)):\n",
    "            d_h[i] = hl_o[i]*(1-hl_o[i])*e_h[i]\n",
    "            d_w_h = lr * d_h[i] * np.transpose(x)[i]\n",
    "            W1[i] = W1[i] + d_w_h\n",
    "            \n",
    "        d_w_o = lr * d_o * np.transpose(hl_o)\n",
    "        W2 = W2 + d_w_o\n",
    "        \n",
    "    return [W1, W2]\n",
    "\n",
    "# 학습 데이터를 하나 꺼내 델타 규칙에 따라 가중치 갱신값(dw)을 계산하고, 이 값으로 신경망의 가중치를\n",
    "# 새로 갱신하는 과정은 \n",
    "# 은닉층이 있어 신경망의 출력값을 계산할 때 두 번에 걸쳐 sigmoid 함수를 호출하는 점과 다음과 같이 출력 노드의\n",
    "# 델타를 역전파시켜 은닉 노드들의 델타(delta)를 계산하는 과정이 추가되었습니다."
   ]
  },
  {
   "cell_type": "code",
   "execution_count": 116,
   "metadata": {},
   "outputs": [
    {
     "name": "stdout",
     "output_type": "stream",
     "text": [
      "0.0016330862665574618\n",
      "0.4997760603256091\n",
      "0.4997237003498788\n",
      "0.49999998069396373\n"
     ]
    }
   ],
   "source": [
    "W1 = np.array([[1.0, 1.1], [0.9, 1.2]])\n",
    "W2 = np.array([2.0, 2.1])\n",
    "X = np.array([[0.0, 0.0], [0.0, 1.0], [1.0, 0.0], [1.0, 1.0]])\n",
    "D = np.array([0.0, 1.0, 1.0, 0.0])\n",
    "\n",
    "for i in range(20000):\n",
    "    W = backkpropagationXOR(W1, W2, X, D)\n",
    "    W1 = W[0]\n",
    "    W2 = W[1]\n",
    "\n",
    "\n",
    "    \n",
    "for k in range(N):\n",
    "    x = X[k]\n",
    "    hl_v = np.array([0.0, 0.0])\n",
    "    hl_o = np.array([0.0, 0.0])\n",
    "    ol_v = 0.0\n",
    "    y = 0.0\n",
    "    \n",
    "    # 입력층 - 은닉층\n",
    "    for i in range(len(W1)):\n",
    "        for j in range(len(x)):\n",
    "            hl_v[i] = hl_v[i] + W1[i][j]*x[j]\n",
    "        hl_o[i] = sigmoid(hl_v[i])\n",
    "\n",
    "    # 은닉층 - 출력층\n",
    "    for i in range(len(hl_o)):\n",
    "        ol_v = ol_v + W2[i]*hl_o[i]\n",
    "    y = sigmoid(ol_v)\n",
    "\n",
    "    print(y)"
   ]
  },
  {
   "cell_type": "code",
   "execution_count": 101,
   "metadata": {},
   "outputs": [
    {
     "name": "stdout",
     "output_type": "stream",
     "text": [
      "1.0\n"
     ]
    }
   ],
   "source": [
    "import numpy as np\n",
    "from math import exp\n",
    "\n",
    "#print(np.array( [ [1, 2, 3], [4, 5, 6] ]))\n",
    "\n",
    "#x  = np.array([1.0, 1.1, 1.2]).reshape((1,3))\n",
    "#x = np.arange(3).reshape((1,3))\n",
    "#print(x)\n",
    "#x_t = np.transpose(x)\n",
    "#print(x_t)\n",
    "\n",
    "print(exp(0))\n",
    "y = 1/(1+exp(0.0))"
   ]
  },
  {
   "cell_type": "code",
   "execution_count": null,
   "metadata": {},
   "outputs": [],
   "source": []
  }
 ],
 "metadata": {
  "kernelspec": {
   "display_name": "Python 3",
   "language": "python",
   "name": "python3"
  },
  "language_info": {
   "codemirror_mode": {
    "name": "ipython",
    "version": 3
   },
   "file_extension": ".py",
   "mimetype": "text/x-python",
   "name": "python",
   "nbconvert_exporter": "python",
   "pygments_lexer": "ipython3",
   "version": "3.7.3"
  }
 },
 "nbformat": 4,
 "nbformat_minor": 2
}
