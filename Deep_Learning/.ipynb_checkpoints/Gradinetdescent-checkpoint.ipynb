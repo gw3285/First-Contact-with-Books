{
 "cells": [
  {
   "cell_type": "code",
   "execution_count": 1,
   "metadata": {
    "scrolled": true
   },
   "outputs": [
    {
     "name": "stdout",
     "output_type": "stream",
     "text": [
      "[1.6160281]\n",
      "[1.3006487]\n"
     ]
    }
   ],
   "source": [
    "import tensorflow as tf\n",
    "sess = tf.Session()\n",
    "\n",
    "W = [0,0,0]\n",
    "\n",
    "for i in range(0,2):\n",
    "    W[i] = tf.random.normal(shape=[1],mean=0.0,stddev=1.0,dtype=tf.dtypes.float32,seed=None,name=None)\n",
    "    print(sess.run(W[0]))"
   ]
  },
  {
   "cell_type": "code",
   "execution_count": 2,
   "metadata": {},
   "outputs": [
    {
     "name": "stdout",
     "output_type": "stream",
     "text": [
      "[0.12265477]\n",
      "[0.09411059]\n",
      "[0.9239483]\n",
      "[0.9037707]\n"
     ]
    }
   ],
   "source": [
    "# Delta SGD\n",
    "\n",
    "import tensorflow as tf \n",
    "\n",
    "X = [[0.0, 0.0, 1.0], [0.0, 1.0, 1.0], [1.0, 0.0, 1.0], [1.0, 1.0, 1.0]]\n",
    "D = [0.0, 0.0, 1.0, 1.0]\n",
    "W = [0, 0, 0]\n",
    "for i in range(0,3):\n",
    "    W[i] = tf.random.normal(shape=[1],mean=0.0,stddev=1.0,dtype=tf.dtypes.float32,seed=None,name=None)\n",
    "\n",
    "lr = 0.9\n",
    "N=4\n",
    "\n",
    "for epoch in range(0,100):    \n",
    "    for k in range(0,N):\n",
    "        x = X[k]\n",
    "        d = D[k]\n",
    "        v = 0\n",
    "        for i in range(0,3):\n",
    "            v = v + W[i]*x[i]\n",
    "            \n",
    "        y = tf.math.sigmoid(v)\n",
    "        e = d - y\n",
    "        delta = 1*y*(1-y)*e\n",
    "        \n",
    "        for i in range(0,3):\n",
    "            W[i] = W[i] + (lr*delta*x[i])\n",
    "\n",
    "for k in range(0, N):\n",
    "    sess = tf.Session()\n",
    "    x = X[k]\n",
    "    v = 0\n",
    "    y = 0\n",
    "    for i in range(0, 3):\n",
    "        v = v + W[i] * x[i]\n",
    "    \n",
    "    y = tf.math.sigmoid(v)\n",
    "    print(sess.run(y))\n",
    "    sess.close()"
   ]
  },
  {
   "cell_type": "code",
   "execution_count": 7,
   "metadata": {},
   "outputs": [
    {
     "name": "stdout",
     "output_type": "stream",
     "text": [
      "[0.13422936]\n",
      "[0.11416221]\n",
      "[0.9293343]\n",
      "[0.8778714]\n"
     ]
    }
   ],
   "source": [
    "# Delta Batch\n",
    "\n",
    "import tensorflow as tf \n",
    "\n",
    "X = [[0.0, 0.0, 1.0], [0.0, 1.0, 1.0], [1.0, 0.0, 1.0], [1.0, 1.0, 1.0]]\n",
    "D = [0.0, 0.0, 1.0, 1.0]\n",
    "W = [0, 0, 0]\n",
    "for i in range(0,3):\n",
    "    W[i] = tf.random.normal(shape=[1],mean=0.0,stddev=1.0,dtype=tf.dtypes.float32,seed=None,name=None)\n",
    "\n",
    "lr = 0.9\n",
    "N=4\n",
    "\n",
    "for epoch in range(0,300):\n",
    "    wsum = [0.0, 0.0, 0.0]\n",
    "    wavg = [0.0, 0.0, 0.0]\n",
    "    for k in range(0, N):\n",
    "        x = X[k]\n",
    "        d = D[k]\n",
    "        v = 0\n",
    "        for i in range(0,3):\n",
    "            v = v + W[i]*x[i]\n",
    "            \n",
    "        y = tf.math.sigmoid(v)\n",
    "        e = d - y\n",
    "        delta = 1*y*(1-y)*e\n",
    "        \n",
    "        for i in range(0,3):\n",
    "            wsum[i] = wsum[i] + (lr*delta*x[i])\n",
    "    \n",
    "    for i in range(0,3):\n",
    "        wavg[i] = wsum[i] / N\n",
    "        W[i] = W[i] + wavg[i]\n",
    "    \n",
    "    \n",
    "\n",
    "for k in range(0, N):\n",
    "    sess = tf.Session()\n",
    "    x = X[k]\n",
    "    v = 0\n",
    "    y = 0\n",
    "    for i in range(0, 3):\n",
    "        v = v + W[i] * x[i]\n",
    "    \n",
    "    y = tf.math.sigmoid(v)\n",
    "    print(sess.run(y))\n",
    "    sess.close()"
   ]
  }
 ],
 "metadata": {
  "kernelspec": {
   "display_name": "Python 3",
   "language": "python",
   "name": "python3"
  },
  "language_info": {
   "codemirror_mode": {
    "name": "ipython",
    "version": 3
   },
   "file_extension": ".py",
   "mimetype": "text/x-python",
   "name": "python",
   "nbconvert_exporter": "python",
   "pygments_lexer": "ipython3",
   "version": "3.7.3"
  }
 },
 "nbformat": 4,
 "nbformat_minor": 2
}
