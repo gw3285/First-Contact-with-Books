{
 "cells": [
  {
   "cell_type": "code",
   "execution_count": 9,
   "metadata": {},
   "outputs": [],
   "source": [
    "import numpy as np\n",
    "\n",
    "num_points = 2000\n",
    "vectors_set = []\n",
    "\n",
    "for i in range(num_points):\n",
    "    if np.random.random() > 0.5:\n",
    "        vectors_set.append([np.random.normal(0.0, 0.9),\n",
    "                          np.random.normal(0.0, 0.9)])\n",
    "    else:\n",
    "        vectors_set.append([np.random.normal(3.0, 0.5),\n",
    "                          np.random.normal(1.0, 0.5)])"
   ]
  },
  {
   "cell_type": "code",
   "execution_count": 10,
   "metadata": {},
   "outputs": [
    {
     "ename": "ModuleNotFoundError",
     "evalue": "No module named 'pandas'",
     "output_type": "error",
     "traceback": [
      "\u001b[1;31m---------------------------------------------------------------------------\u001b[0m",
      "\u001b[1;31mModuleNotFoundError\u001b[0m                       Traceback (most recent call last)",
      "\u001b[1;32m<ipython-input-10-3dd06d82f794>\u001b[0m in \u001b[0;36m<module>\u001b[1;34m\u001b[0m\n\u001b[0;32m      1\u001b[0m \u001b[1;32mimport\u001b[0m \u001b[0mmatplotlib\u001b[0m\u001b[1;33m.\u001b[0m\u001b[0mpyplot\u001b[0m \u001b[1;32mas\u001b[0m \u001b[0mplt\u001b[0m\u001b[1;33m\u001b[0m\u001b[1;33m\u001b[0m\u001b[0m\n\u001b[1;32m----> 2\u001b[1;33m \u001b[1;32mimport\u001b[0m \u001b[0mpandas\u001b[0m \u001b[1;32mas\u001b[0m \u001b[0mpd\u001b[0m\u001b[1;33m\u001b[0m\u001b[1;33m\u001b[0m\u001b[0m\n\u001b[0m\u001b[0;32m      3\u001b[0m \u001b[1;32mimport\u001b[0m \u001b[0mseaborn\u001b[0m \u001b[1;32mas\u001b[0m \u001b[0msns\u001b[0m\u001b[1;33m\u001b[0m\u001b[1;33m\u001b[0m\u001b[0m\n\u001b[0;32m      4\u001b[0m \u001b[1;33m\u001b[0m\u001b[0m\n\u001b[0;32m      5\u001b[0m df = pd.DataFrame({\"x\": [v[0] for v in vectors_set],\n",
      "\u001b[1;31mModuleNotFoundError\u001b[0m: No module named 'pandas'"
     ]
    }
   ],
   "source": [
    "import matplotlib.pyplot as plt\n",
    "import pandas as pd\n",
    "import seaborn as sns\n",
    "\n",
    "df = pd.DataFrame({\"x\": [v[0] for v in vectors_set],\n",
    "                  \"y\": [v[1] for v in vectors_set]})\n",
    "sns.lmplot(\"x\", \"y\", data=df, fit_reg=False, height=6)\n",
    "plt.show()"
   ]
  },
  {
   "cell_type": "code",
   "execution_count": 11,
   "metadata": {},
   "outputs": [
    {
     "name": "stdout",
     "output_type": "stream",
     "text": [
      "(2000, 2)\n",
      "(4, 2)\n"
     ]
    },
    {
     "ename": "NameError",
     "evalue": "name 'diff_sqr' is not defined",
     "output_type": "error",
     "traceback": [
      "\u001b[1;31m---------------------------------------------------------------------------\u001b[0m",
      "\u001b[1;31mNameError\u001b[0m                                 Traceback (most recent call last)",
      "\u001b[1;32m<ipython-input-11-c97906e5015b>\u001b[0m in \u001b[0;36m<module>\u001b[1;34m\u001b[0m\n\u001b[0;32m     17\u001b[0m \u001b[0msqr\u001b[0m \u001b[1;33m=\u001b[0m \u001b[0mtf\u001b[0m\u001b[1;33m.\u001b[0m\u001b[0msquare\u001b[0m\u001b[1;33m(\u001b[0m\u001b[0mdiff\u001b[0m\u001b[1;33m)\u001b[0m\u001b[1;33m\u001b[0m\u001b[1;33m\u001b[0m\u001b[0m\n\u001b[0;32m     18\u001b[0m \u001b[1;31m# 지정한 차원 축소\u001b[0m\u001b[1;33m\u001b[0m\u001b[1;33m\u001b[0m\u001b[1;33m\u001b[0m\u001b[0m\n\u001b[1;32m---> 19\u001b[1;33m \u001b[0mdistances\u001b[0m \u001b[1;33m=\u001b[0m \u001b[0mtf\u001b[0m\u001b[1;33m.\u001b[0m\u001b[0mreduce_sum\u001b[0m\u001b[1;33m(\u001b[0m\u001b[0mdiff_sqr\u001b[0m\u001b[1;33m,\u001b[0m \u001b[1;36m2\u001b[0m\u001b[1;33m)\u001b[0m\u001b[1;33m\u001b[0m\u001b[1;33m\u001b[0m\u001b[0m\n\u001b[0m\u001b[0;32m     20\u001b[0m \u001b[1;31m# 지정한 차원에서 가장 작은 값의 원소의 인덱스를 리턴\u001b[0m\u001b[1;33m\u001b[0m\u001b[1;33m\u001b[0m\u001b[1;33m\u001b[0m\u001b[0m\n\u001b[0;32m     21\u001b[0m \u001b[0massignments\u001b[0m \u001b[1;33m=\u001b[0m \u001b[0mtf\u001b[0m\u001b[1;33m.\u001b[0m\u001b[0margmin\u001b[0m\u001b[1;33m(\u001b[0m\u001b[0mdistances\u001b[0m\u001b[1;33m)\u001b[0m\u001b[1;33m\u001b[0m\u001b[1;33m\u001b[0m\u001b[0m\n",
      "\u001b[1;31mNameError\u001b[0m: name 'diff_sqr' is not defined"
     ]
    }
   ],
   "source": [
    "import tensorflow as tf\n",
    "\n",
    "# 모든 데이터를 텐서에 할당\n",
    "vectors = tf.constant(vectors_set)\n",
    "k = 4\n",
    "# K개 임의좌표에 초기 중심 지정\n",
    "centroides = tf.Variable(tf.slice(tf.random_shuffle(vectors),[0,0],[k,-1]))\n",
    "print(vectors.get_shape())\n",
    "print(centroides.get_shape())\n",
    "\n",
    "# 각 점(데이터)에 대해 유클리드 제곱 거리를 구해 가장 가까운 중심을 계산\n",
    "expanded_vectors = tf.expand_dims(vectors, 0)\n",
    "expanded_centroides = tf.expand_dims(centroides, 1)\n",
    "\n",
    "# expaned_vectors와 expanded_centroids 뺄셈\n",
    "diff = tf.subtract(expanded_vectors, expanded_centroides)\n",
    "sqr = tf.square(diff)\n",
    "# 지정한 차원 축소\n",
    "distances = tf.reduce_sum(diff_sqr, 2)\n",
    "# 지정한 차원에서 가장 작은 값의 원소의 인덱스를 리턴\n",
    "assignments = tf.argmin(distances)\n",
    "\n",
    "means = tf.concat([tf.reduce_mean(tf.gather(vectors,\n",
    "                                              tf.reshape(tf.where(tf.equal(assignments, c)), [1,-1])),\n",
    "                                    reduction_indices=[1]) for c in range(k)],0)\n",
    "\n",
    "update_centroides = tf.assign(centroides, means)\n",
    "\n",
    "init_op = tf.global_variables_initializer()\n",
    "\n",
    "sess = tf.Session()\n",
    "sess.run(init_op)\n",
    "\n",
    "for step in range(100):\n",
    "    _, centroid_values, assignment_values = sess.run([update_centroides, centroides, assignments])"
   ]
  },
  {
   "cell_type": "code",
   "execution_count": null,
   "metadata": {},
   "outputs": [],
   "source": [
    "data={\"x\":[], \"y\":[], \"cluster\":[]}\n",
    "\n",
    "for i in range(len(assignment_values)):\n",
    "    data[\"x\"].append(vectors_set[i][0])\n",
    "    data[\"y\"].append(vectors_set[i][1])\n",
    "    data[\"cluster\"].append(assignment_values[i])\n",
    "    \n",
    "df = pd.DataFrame(data)\n",
    "sns.lmplot(\"x\", \"y\", data=df, fit_reg=False, height=6, hue=\"cluster\", legend=False)\n",
    "plt.show()"
   ]
  }
 ],
 "metadata": {
  "kernelspec": {
   "display_name": "Python 3",
   "language": "python",
   "name": "python3"
  },
  "language_info": {
   "codemirror_mode": {
    "name": "ipython",
    "version": 3
   },
   "file_extension": ".py",
   "mimetype": "text/x-python",
   "name": "python",
   "nbconvert_exporter": "python",
   "pygments_lexer": "ipython3",
   "version": "3.7.1"
  }
 },
 "nbformat": 4,
 "nbformat_minor": 2
}
