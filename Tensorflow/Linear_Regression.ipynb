{
 "cells": [
  {
   "cell_type": "code",
   "execution_count": 1,
   "metadata": {},
   "outputs": [
    {
     "data": {
      "text/plain": [
       "<Figure size 640x480 with 1 Axes>"
      ]
     },
     "metadata": {},
     "output_type": "display_data"
    }
   ],
   "source": [
    "import numpy as np\n",
    "import matplotlib.pyplot as plt\n",
    "\n",
    "# python3 이상에서는 xrange 대신 range 사용해야 합니다.\n",
    "\n",
    "num_points = 1000\n",
    "vectors_set = []\n",
    "\n",
    "for i in range(num_points):\n",
    "    x1 = np.random.normal(0.0, 0.55)\n",
    "    y1 = x1 * 0.1 + 0.3 + np.random.normal(0.0, 0.03)\n",
    "    vectors_set.append([x1, y1])\n",
    "    \n",
    "x_data = [v[0] for v in vectors_set]\n",
    "y_data = [v[1] for v in vectors_set]\n",
    "\n",
    "plt.plot(x_data, y_data, 'bo', label='data')\n",
    "plt.legend()\n",
    "plt.show()"
   ]
  },
  {
   "cell_type": "code",
   "execution_count": 2,
   "metadata": {},
   "outputs": [
    {
     "name": "stdout",
     "output_type": "stream",
     "text": [
      "WARNING:tensorflow:From C:\\Users\\ynebu\\Anaconda3\\envs\\tensorflow\\lib\\site-packages\\tensorflow\\python\\framework\\op_def_library.py:263: colocate_with (from tensorflow.python.framework.ops) is deprecated and will be removed in a future version.\n",
      "Instructions for updating:\n",
      "Colocations handled automatically by placer.\n"
     ]
    }
   ],
   "source": [
    "import tensorflow as tf\n",
    "\n",
    "w = tf.Variable(tf.random_uniform([1], -1.0, 1.0))\n",
    "b = tf.Variable(tf.zeros([1]))\n",
    "y = w*x_data + b"
   ]
  },
  {
   "cell_type": "code",
   "execution_count": 3,
   "metadata": {},
   "outputs": [],
   "source": [
    "import tensorflow as tf\n",
    "\n",
    "w = tf.Variable(tf.random_uniform([1], -1.0, 1.0))\n",
    "b = tf.Variable(tf.zeros([1]))\n",
    "y = w*x_data + b"
   ]
  },
  {
   "cell_type": "code",
   "execution_count": 5,
   "metadata": {},
   "outputs": [],
   "source": [
    "# cost function(label - estimate_value)\n",
    "loss = tf.reduce_mean(tf.square(y - y_data))\n",
    "optimizer = tf.train.GradientDescentOptimizer(0.5)\n",
    "train = optimizer.minimize(loss)"
   ]
  },
  {
   "cell_type": "code",
   "execution_count": 6,
   "metadata": {},
   "outputs": [],
   "source": [
    "# 변수 초기화\n",
    "init = tf.global_variables_initializer()\n",
    "\n",
    "sess = tf.Session()\n",
    "sess.run(init)"
   ]
  },
  {
   "cell_type": "code",
   "execution_count": 7,
   "metadata": {},
   "outputs": [
    {
     "name": "stdout",
     "output_type": "stream",
     "text": [
      "0 [0.48559383] [0.29426605] 0.042467948\n",
      "1 [0.3777005] [0.2960119] 0.022442233\n",
      "2 [0.3000365] [0.2973109] 0.01206584\n",
      "3 [0.24413167] [0.29824594] 0.0066892705\n",
      "4 [0.20388976] [0.29891902] 0.0039033806\n",
      "5 [0.17492245] [0.29940352] 0.0024598602\n",
      "6 [0.15407094] [0.2997523] 0.0017118948\n",
      "7 [0.13906142] [0.30000332] 0.0013243335\n",
      "8 [0.12825714] [0.30018404] 0.0011235174\n",
      "9 [0.1204799] [0.30031413] 0.0010194636\n"
     ]
    }
   ],
   "source": [
    "# W와 b를 찾기 위해 반복적인 Train\n",
    "for step in range(10):\n",
    "    sess.run(train)\n",
    "    print (step, sess.run(w), sess.run(b), sess.run(loss))"
   ]
  },
  {
   "cell_type": "code",
   "execution_count": 8,
   "metadata": {},
   "outputs": [
    {
     "data": {
      "image/png": "[encoded data removed]",
      "text/plain": [
       "<Figure size 432x288 with 1 Axes>"
      ]
     },
     "metadata": {
      "needs_background": "light"
     },
     "output_type": "display_data"
    }
   ],
   "source": [
    "# 결과 그림으로 표현\n",
    "plt.plot(x_data, y_data, 'bo', label='train result')\n",
    "plt.plot(x_data, sess.run(w)*x_data + sess.run(b))\n",
    "plt.legend()\n",
    "plt.xlabel('x')\n",
    "plt.ylabel('y')\n",
    "plt.xlim(-2, 2)\n",
    "plt.ylim(0.1, 0.6)\n",
    "plt.show()"
   ]
  },
  {
   "cell_type": "code",
   "execution_count": null,
   "metadata": {},
   "outputs": [],
   "source": []
  }
 ],
 "metadata": {
  "kernelspec": {
   "display_name": "Python 3",
   "language": "python",
   "name": "python3"
  },
  "language_info": {
   "codemirror_mode": {
    "name": "ipython",
    "version": 3
   },
   "file_extension": ".py",
   "mimetype": "text/x-python",
   "name": "python",
   "nbconvert_exporter": "python",
   "pygments_lexer": "ipython3",
   "version": "3.7.3"
  }
 },
 "nbformat": 4,
 "nbformat_minor": 2
}
