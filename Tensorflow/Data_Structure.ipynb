{
 "cells": [
  {
   "cell_type": "code",
   "execution_count": 3,
   "metadata": {},
   "outputs": [
    {
     "name": "stdout",
     "output_type": "stream",
     "text": [
      "b'Hello, TensorFlow'\n",
      "30\n",
      "[10, 20, 30]\n",
      "[1 2 3 4]\n"
     ]
    }
   ],
   "source": [
    "import tensorflow as tf\n",
    "\n",
    "hello = tf.constant('Hello, TensorFlow')\n",
    "#Tensor(\"Const:0\", shape(), dtype=string)\n",
    "# hello는 Tensor라는 자료형이고 상수를 담고있다.\n",
    "#print(hello)\n",
    "\n",
    "a = tf.constant(10)\n",
    "b = tf.constant(20)\n",
    "c = tf.add(a,b)\n",
    "con_list = tf.constant([1,2,3,4])\n",
    "\n",
    "sess = tf.Session()\n",
    "print(sess.run(hello))\n",
    "print(sess.run(c))\n",
    "print(sess.run([a,b,c])) #각각의 요소 출력\n",
    "print(sess.run(con_list))\n",
    "\n",
    "sess.close()"
   ]
  },
  {
   "cell_type": "code",
   "execution_count": 12,
   "metadata": {},
   "outputs": [
    {
     "name": "stdout",
     "output_type": "stream",
     "text": [
      "[1 2 3]\n",
      "[2 4 6]\n",
      "[1 2 3 4]\n",
      "[1 2 3 4 5 6]\n"
     ]
    }
   ],
   "source": [
    "import tensorflow as tf\n",
    "\n",
    "# placeholder 정의\n",
    "# float32 자료형 2행3열을 가진 a\n",
    "a = tf.placeholder(tf.int32, [3])\n",
    "x1=a\n",
    "sess = tf.Session()\n",
    "\n",
    "#placeholder에 값을 넣고 실행\n",
    "#a에 1, 2, 3을 넣는다.\n",
    "r1 = sess.run(x1, feed_dict={a:[1,2,3]})\n",
    "#array(2,4,6) 출력됨\n",
    "print(r1)\n",
    "\n",
    "# 배열을 두배로 하는 연산 정의\n",
    "b = tf.constant(2)\n",
    "# a의 값에 2배가 되도록 설정\n",
    "x2 = tf.math.multiply(a,b)\n",
    "\n",
    "r2 = sess.run(x2, feed_dict={a:[1,2,3]})\n",
    "#array(2,4,6) 출력됨\n",
    "print(r2)\n",
    "\n",
    "#None은 갯수가 지정되지 않음 의미\n",
    "a = tf.placeholder(tf.int32, [None])\n",
    "x3 = a\n",
    "x4 = a\n",
    "r3 = sess.run(x3, feed_dict={a:[1,2,3,4]})\n",
    "r4 = sess.run(x4, feed_dict={a:[1,2,3,4,5,6,]})\n",
    "print(r3)\n",
    "print(r4)\n",
    "\n",
    "sess.close()"
   ]
  },
  {
   "cell_type": "code",
   "execution_count": 1,
   "metadata": {},
   "outputs": [
    {
     "name": "stdout",
     "output_type": "stream",
     "text": [
      "WARNING:tensorflow:From C:\\Users\\ynebu\\Anaconda3\\envs\\tensorflow\\lib\\site-packages\\tensorflow\\python\\framework\\op_def_library.py:263: colocate_with (from tensorflow.python.framework.ops) is deprecated and will be removed in a future version.\n",
      "Instructions for updating:\n",
      "Colocations handled automatically by placer.\n",
      "WARNING:tensorflow:From C:\\Users\\ynebu\\Anaconda3\\envs\\tensorflow\\lib\\site-packages\\tensorflow\\python\\util\\tf_should_use.py:193: initialize_all_variables (from tensorflow.python.ops.variables) is deprecated and will be removed after 2017-03-02.\n",
      "Instructions for updating:\n",
      "Use `tf.global_variables_initializer` instead.\n",
      "10\n",
      "[[-1.6481068   0.10204522]\n",
      " [-1.145536   -0.9159591 ]\n",
      " [ 1.7314699  -0.6631014 ]]\n",
      "[[1.  0.1]\n",
      " [0.2 2. ]\n",
      " [3.  3.2]]\n",
      "[[ 1.4000001 14.       ]\n",
      " [ 3.2       32.       ]]\n"
     ]
    }
   ],
   "source": [
    "import tensorflow as tf\n",
    "\n",
    "\n",
    "# 변수\n",
    "a = tf.Variable(10)\n",
    "sess = tf.Session()\n",
    "sess.run(tf.initialize_all_variables())\n",
    "print(sess.run(a))\n",
    "sess.close()\n",
    "\n",
    "# 정규분포값 만듬\n",
    "w = tf.Variable(tf.random_normal([3,2]))\n",
    "sess = tf.Session()\n",
    "sess.run(tf.initialize_all_variables())\n",
    "print(sess.run(w))\n",
    "sess.close()\n",
    "\n",
    "# 직접 입력도 가능\n",
    "w2 = tf.Variable([[1.0, 0.1], [0.2, 2.0], [3.0, 3.2]])\n",
    "sess = tf.Session()\n",
    "sess.run(tf.initialize_all_variables())\n",
    "print(sess.run(w2))\n",
    "sess.close()\n",
    "\n",
    "# 행렬의 곱\n",
    "X = [[1.0, 2.0, 3.0], [4.0, 5.0, 6.0]]\n",
    "W = tf.Variable([[0.1,1.0],[0.2,2.0],[0.3, 3.0]])\n",
    "# 행렬의 자료형은 일치해야 한다. (2,3)*(3,2)\n",
    "res = tf.matmul(X,W)\n",
    "sess = tf.Session()\n",
    "sess.run(tf.global_variables_initializer())\n",
    "print(sess.run(res))\n",
    "sess.close()"
   ]
  },
  {
   "cell_type": "code",
   "execution_count": null,
   "metadata": {},
   "outputs": [],
   "source": [
    "# random package\n",
    "import tensorflow as tf\n",
    "sess = tf.Session()\n",
    "\n",
    "print(sess.run(tf.random.normal(\n",
    "    shape=[1],\n",
    "    mean=0.0,\n",
    "    stddev=1.0,\n",
    "    dtype=tf.dtypes.float32,\n",
    "    seed=None,\n",
    "    name=None)))"
   ]
  }
 ],
 "metadata": {
  "kernelspec": {
   "display_name": "Python 3",
   "language": "python",
   "name": "python3"
  },
  "language_info": {
   "codemirror_mode": {
    "name": "ipython",
    "version": 3
   },
   "file_extension": ".py",
   "mimetype": "text/x-python",
   "name": "python",
   "nbconvert_exporter": "python",
   "pygments_lexer": "ipython3",
   "version": "3.7.3"
  }
 },
 "nbformat": 4,
 "nbformat_minor": 2
}
