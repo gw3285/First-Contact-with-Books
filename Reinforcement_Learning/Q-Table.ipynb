{
 "cells": [
  {
   "cell_type": "code",
   "execution_count": 1,
   "metadata": {},
   "outputs": [],
   "source": [
    "import gym\n",
    "import numpy as np\n",
    "import random\n",
    "import matplotlib.pyplot as plt\n",
    "%matplotlib inline\n",
    "\n",
    "# Load the enviroment\n",
    "env = gym.make('FrozenLake-v0')"
   ]
  },
  {
   "cell_type": "code",
   "execution_count": 4,
   "metadata": {},
   "outputs": [
    {
     "name": "stdout",
     "output_type": "stream",
     "text": [
      "Score over time: 0.5315\n",
      "Final Q-Table Values\n",
      "[[8.50351788e-02 0.00000000e+00 1.60734518e-02 1.18710678e-02]\n",
      " [1.04207647e-03 1.48409814e-03 5.50636587e-04 1.30507037e-01]\n",
      " [4.57402257e-03 1.88265397e-03 1.57312957e-03 2.11817502e-01]\n",
      " [0.00000000e+00 1.77281010e-03 0.00000000e+00 6.78188595e-02]\n",
      " [1.18611768e-01 6.92975335e-03 1.68819762e-03 1.98138256e-03]\n",
      " [0.00000000e+00 0.00000000e+00 0.00000000e+00 0.00000000e+00]\n",
      " [9.72547527e-02 8.92603635e-07 1.47433632e-04 3.59467526e-04]\n",
      " [0.00000000e+00 0.00000000e+00 0.00000000e+00 0.00000000e+00]\n",
      " [1.14119789e-03 0.00000000e+00 0.00000000e+00 3.20568066e-01]\n",
      " [0.00000000e+00 3.03350752e-01 6.42314728e-03 0.00000000e+00]\n",
      " [2.48966560e-01 1.36653727e-03 0.00000000e+00 0.00000000e+00]\n",
      " [0.00000000e+00 0.00000000e+00 0.00000000e+00 0.00000000e+00]\n",
      " [0.00000000e+00 0.00000000e+00 0.00000000e+00 0.00000000e+00]\n",
      " [9.04485072e-03 1.02488605e-02 5.22241980e-01 0.00000000e+00]\n",
      " [0.00000000e+00 0.00000000e+00 0.00000000e+00 8.51641255e-01]\n",
      " [0.00000000e+00 0.00000000e+00 0.00000000e+00 0.00000000e+00]]\n"
     ]
    }
   ],
   "source": [
    "# 테이블을 모두 0으로 초기화한다.\n",
    "Q = np.zeros([env.observation_space.n,env.action_space.n])\n",
    "# 한습 매개변수를 설정한다.\n",
    "lr = .8\n",
    "y = .95\n",
    "num_episodes = 2000\n",
    "# 보상의 총계를 담을 리스트를 생성한다.\n",
    "rList = []\n",
    "for i in range(num_episodes):\n",
    "    # 환경을 리셋하고 첫 번째 새로운 관찰을 얻는다.\n",
    "    s = env.reset()\n",
    "    rAll = 0\n",
    "    d = False\n",
    "    j = 0\n",
    "    # 환경을 리셋하고 첫 번째 새로운 관찰을 얻는다.\n",
    "    s = env.reset()\n",
    "    rAll = 0\n",
    "    d = False\n",
    "    j = 0\n",
    "    # Q 테이블 학습 알고리즘\n",
    "    while j < 99:\n",
    "        j+=1\n",
    "        # Q 테이블로부터 (노이즈와 함께) 그리디하게 액션을 선택\n",
    "        a = np.argmax(Q[s,:] + np.random.randn(1,env.action_space.n)*(1./(i+1)))\n",
    "        # 환경으로부터 새로운 상태와 보상을 얻는다.\n",
    "        s1,r,d,_ = env.step(a)\n",
    "        # 새로운 지식을 통해 Q 테이블을 업데이트한다.\n",
    "        Q[s,a] = Q[s,a] + lr*(r + y*np.max(Q[s1,:]) - Q[s,a])\n",
    "        rAll += r\n",
    "        s = s1\n",
    "        if d == True:\n",
    "            break\n",
    "    rList.append(rAll)\n",
    "\n",
    "# 성공한 에피소드의 비율을 확인 - 즉 보상의 총계를 에피소드 수로 나눔\n",
    "print(\"Score over time: \"+str(sum(rList)/num_episodes))\n",
    "# Q 테이블의 모든 값을 출력\n",
    "print(\"Final Q-Table Values\")\n",
    "print(Q)"
   ]
  },
  {
   "cell_type": "code",
   "execution_count": null,
   "metadata": {},
   "outputs": [],
   "source": []
  }
 ],
 "metadata": {
  "kernelspec": {
   "display_name": "Python 3",
   "language": "python",
   "name": "python3"
  },
  "language_info": {
   "codemirror_mode": {
    "name": "ipython",
    "version": 3
   },
   "file_extension": ".py",
   "mimetype": "text/x-python",
   "name": "python",
   "nbconvert_exporter": "python",
   "pygments_lexer": "ipython3",
   "version": "3.7.3"
  }
 },
 "nbformat": 4,
 "nbformat_minor": 2
}
